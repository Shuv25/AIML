{
 "cells": [
  {
   "cell_type": "code",
   "execution_count": 36,
   "metadata": {},
   "outputs": [],
   "source": [
    "from nltk.corpus import stopwords\n",
    "from nltk.sentiment.vader import SentimentIntensityAnalyzer\n",
    "from nltk.stem import WordNetLemmatizer\n",
    "from nltk.tokenize import word_tokenize"
   ]
  },
  {
   "cell_type": "code",
   "execution_count": 37,
   "metadata": {},
   "outputs": [],
   "source": [
    "f=open(\"C:\\\\Users\\hp\\\\Documents\\\\GitHub\\\\WORKSPACE\\\\3AI\\\\NLP\\\\read.txt\",\"r\",encoding=\"utf-8\").read()"
   ]
  },
  {
   "cell_type": "code",
   "execution_count": 38,
   "metadata": {},
   "outputs": [],
   "source": [
    "lower_case=f.lower()"
   ]
  },
  {
   "cell_type": "code",
   "execution_count": 39,
   "metadata": {},
   "outputs": [],
   "source": [
    "special_characters=\"`~!@#$^&*()-+=<>:\\/'.;{][}|?\"\n",
    "cleaned_string=''\n",
    "for i in lower_case:\n",
    "    if i not in special_characters:\n",
    "        cleaned_string+=i\n"
   ]
  },
  {
   "cell_type": "code",
   "execution_count": 40,
   "metadata": {},
   "outputs": [],
   "source": [
    "tokenize_words=word_tokenize(cleaned_string,\"english\")"
   ]
  },
  {
   "cell_type": "code",
   "execution_count": 41,
   "metadata": {},
   "outputs": [],
   "source": [
    "final_words=[]\n",
    "for i in tokenize_words:\n",
    "    if i not in stopwords.words(\"english\"):\n",
    "        final_words.append(i)"
   ]
  },
  {
   "cell_type": "code",
   "execution_count": 42,
   "metadata": {},
   "outputs": [],
   "source": [
    "import nltk"
   ]
  },
  {
   "cell_type": "code",
   "execution_count": 43,
   "metadata": {},
   "outputs": [
    {
     "name": "stderr",
     "output_type": "stream",
     "text": [
      "[nltk_data] Downloading package wordnet to\n",
      "[nltk_data]     C:\\Users\\hp\\AppData\\Roaming\\nltk_data...\n",
      "[nltk_data]   Package wordnet is already up-to-date!\n"
     ]
    },
    {
     "data": {
      "text/plain": [
       "True"
      ]
     },
     "execution_count": 43,
     "metadata": {},
     "output_type": "execute_result"
    }
   ],
   "source": [
    "nltk.download('wordnet')"
   ]
  },
  {
   "cell_type": "code",
   "execution_count": 44,
   "metadata": {},
   "outputs": [],
   "source": [
    "lemme_words=[]\n",
    "for i in final_words:\n",
    "    i=WordNetLemmatizer().lemmatize(i)\n",
    "    lemme_words.append(i)"
   ]
  },
  {
   "cell_type": "code",
   "execution_count": 45,
   "metadata": {},
   "outputs": [],
   "source": [
    "nf=open(\"C:\\\\Users\\hp\\\\Documents\\\\GitHub\\\\WORKSPACE\\\\3AI\\\\NLP\\\\emotion.txt\",\"r\",encoding=\"utf-8\").read()"
   ]
  },
  {
   "cell_type": "code",
   "execution_count": 46,
   "metadata": {},
   "outputs": [
    {
     "name": "stdout",
     "output_type": "stream",
     "text": [
      "{'victimized': 'sad', 'accused': 'cheated', 'acquitted': 'singled out', 'adorable': 'loved', 'adored': 'loved', 'affected': 'attracted', 'afflicted': 'sad', 'aghast': 'fearful', 'agog': 'attracted', 'agonized': 'sad', 'alarmed': 'fearful', 'amused': 'happy', 'angry': 'angry', 'anguished': 'sad', 'animated': 'happy', 'annoyed': 'angry', 'anxious': 'attracted', 'apathetic': 'apathetic', 'appalled': 'angry', 'appeased': 'singled out', 'appreciated': 'esteemed', 'apprehensive': 'anxious', 'approved of': 'loved', 'ardent': 'lustful', 'aroused': 'lustful', 'attached': 'attached', 'attracted': 'attracted', 'autonomous': 'free', 'awed': 'fearful', 'awkward': 'embarrassed', 'beaten down': 'powerless', 'beatific': 'happy', 'belonging': 'attached', 'bereaved': 'sad', 'betrayed': 'cheated', 'bewildered': 'surprise', 'bitter': 'angry', 'blissful': 'happy', 'blithe': 'happy', 'blocked': 'powerless', 'blue': 'sad', 'boiling': 'angry', 'bold': 'fearless', 'bored': 'bored', 'brave': 'fearless', 'bright': 'happy', 'brisk': 'happy', 'calm': 'safe', 'capable': 'adequate', 'captivated': 'attached', 'careless': 'powerless', 'categorized': 'singled out', 'cautious': 'fearful', 'certain': 'fearless', 'chagrined': 'belittled', 'challenged': 'attracted', 'chastised': 'hated', 'cheated': 'cheated', 'cheerful': 'happy', 'cheerless': 'sad', 'cheery': 'happy', 'cherished': 'attached', 'chicken': 'fearful', 'cocky': 'independent', 'codependent': 'codependent', 'coerced': 'cheated', 'comfortable': 'happy', 'common': 'average', 'competent': 'adequate', 'complacent': 'apathetic', 'composed': 'adequate', 'concerned': 'attracted', 'confident': 'adequate', 'confused': 'surprise', 'connected': 'attached', 'conned': 'cheated', 'consumed': 'obsessed', 'contented': 'happy', 'controlled': 'powerless', 'convivial': 'happy', 'cornered': 'entitled', 'courageous': 'fearless', 'cowardly': 'fearful', 'craving': 'attracted', 'crestfallen': 'sad', 'criticized': 'hated', 'cross': 'angry', 'cross-examined': 'singled out', 'crushed': 'sad', 'curious': 'attracted', 'cut off': 'alone', 'daring': 'fearless', 'dark': 'sad', 'dedicated': 'attracted', 'defeated': 'powerless', 'defenseless': 'fearful', 'degraded': 'belittled', 'dejected': 'sad', 'depressed': 'sad', 'deserted': 'hated', 'desirable': 'loved', 'despondent': 'sad', 'detached': 'alone', 'determined': 'focused', 'diminished': 'belittled', 'disappointed': 'demoralized', 'discarded': 'hated', 'disconsolate': 'sad', 'discontented': 'sad', 'discounted': 'belittled', 'discouraged': 'powerless', 'disgraced': 'belittled', 'disgusted': 'angry', 'disheartened': 'sad', 'disillusioned': 'demoralized', 'disjointed': 'derailed', 'dismal': 'sad', 'dismayed': 'fearful', 'disoriented': 'derailed', 'disparaged': 'cheated', 'displeased': 'sad', 'disrespected': 'belittled', 'distressed': 'sad', 'distrustful': 'anxious', 'dolorous': 'sad', 'doubtful': 'fearful', 'down': 'sad', 'downhearted': 'sad', 'dreadful': 'sad', 'dreary': 'sad', 'dubious': 'anxious', 'dull': 'sad', 'duped': 'cheated', 'eager': 'attracted', 'earnest': 'attracted', 'ecstatic': 'happy', 'elated': 'happy', 'embarrassed': 'embarrassed', 'empathetic': 'attached', 'enchanted': 'attracted', 'encouraged': 'adequate', 'engrossed': 'attracted', 'enraged': 'angry', 'enterprising': 'fearless', 'enthusiastic': 'happy', 'entrusted': 'loved', 'esteemed': 'esteemed', 'excited': 'adequate', 'excluded': 'alone', 'exempt': 'entitled', 'exhausted hopeless': 'powerless', 'exhilarated': 'happy', 'exploited': 'cheated', 'exposed': 'fearful', 'fabulous': 'ecstatic', 'fainthearted': 'fearful', 'fantastic': 'ecstatic', 'fascinated': 'attracted', 'favored': 'entitled', 'fearful': 'fearful', 'fervent': 'attracted', 'fervid': 'attracted', 'festive': 'happy', 'flat': 'sad', 'focused': 'focused', 'forced': 'powerless', 'forsaken': 'hated', 'framed': 'cheated', 'free': 'free', 'free & easy': 'happy', 'frightened': 'fearful', 'frisky': 'happy', 'frustrated': 'angry', 'full of anticipation': 'attracted', 'full of ennui': 'apathetic', 'fuming': 'angry', 'funereal': 'sad', 'furious': 'angry', 'gallant': 'fearless', 'genial': 'happy', 'glad': 'happy', 'gleeful': 'happy', 'gloomy': 'sad', 'glum': 'sad', 'grief-stricken': 'sad', 'grieved': 'sad', 'guilt': 'sad', 'guilty': 'singled out', 'happy': 'happy', 'hardy': 'fearless', 'heartbroken': 'sad', 'heavyhearted': 'sad', 'hesitant': 'fearful', 'high-spirited': 'happy', 'hilarious': 'happy', 'hopeful': 'attracted', 'horny': 'lustful', 'horrified': 'fearful', 'hot and bothered': 'lustful', 'humiliated': 'sad', 'humorous': 'happy', 'hurt': 'sad', 'hysterical': 'fearful', 'ignored': 'hated', 'ill at ease': 'sad', 'immobilized': 'apathetic', 'immune': 'entitled', 'important': 'happy', 'impotent': 'powerless', 'imprisoned': 'entitled', 'in a huff': 'angry', 'in a stew': 'angry', 'in control': 'adequate', 'in fear': 'fearful', 'in pain': 'sad', 'in the dumps': 'sad', 'in the zone': 'focused', 'incensed': 'angry', 'included': 'attached', 'indecisive': 'anxious', 'independent': 'free', 'indignant': 'angry', 'infatuated': 'lustful', 'inflamed': 'angry', 'injured': 'sad', 'inquisitive': 'attracted', 'insecure': 'fearful', 'insignificant': 'belittled', 'intent': 'attracted', 'interested': 'attracted', 'interrogated': 'singled out', 'intrigued': 'attracted', 'irate': 'angry', 'irresolute': 'fearful', 'irresponsible': 'powerless', 'irritated': 'angry', 'isolated': 'alone', 'jaunty': 'happy', 'jocular': 'happy', 'jolly': 'happy', 'jovial': 'happy', 'joyful': 'happy', 'joyless': 'sad', 'joyous': 'happy', 'jubilant': 'happy', 'justified': 'singled out', 'keen': 'attracted', 'labeled': 'singled out', 'lackadaisical': 'bored', 'lazy': 'apathetic', 'left out': 'hated', 'let down': 'hated', 'lethargic': 'apathetic', 'lied to': 'cheated', 'lighthearted': 'happy', 'liked': 'attached', 'lively': 'happy', 'livid': 'angry', 'lonely': 'alone', 'lonesome': 'alone', 'lost': 'lost', 'loved': 'loved', 'low': 'sad', 'lucky': 'happy', 'lugubrious': 'sad', 'macho': 'independent', 'mad': 'angry', 'melancholy': 'sad', 'menaced': 'fearful', 'merry': 'happy', 'mirthful': 'happy', 'misgiving': 'fearful', 'misunderstood': 'alone', 'moody': 'sad', 'moping': 'sad', 'motivated': 'attracted', 'mournful': 'sad', 'needed': 'attracted', 'needy': 'codependent', 'nervous': 'fearful', 'obligated': 'powerless', 'obsessed': 'obsessed', 'offended': 'angry', 'oppressed': 'sad', 'optionless': 'entitled', 'ordinary': 'average', 'organized': 'adequate', 'out of control': 'powerless', 'out of sorts': 'sad', 'outmaneuvered': 'entitled', 'outraged': 'angry', 'overjoyed': 'happy', 'overlooked': 'hated', 'overwhelmed': 'powerless', 'panicked': 'fearful', 'passionate': 'lustful', 'passive': 'apathetic', 'pathetic': 'sad', 'peaceful': 'happy', 'pensive': 'anxious', 'perplexed': 'anxious', 'phobic': 'fearful', 'playful': 'happy', 'pleased': 'happy', 'powerless': 'powerless', 'pressured': 'burdened', 'privileged': 'entitled', 'proud': 'happy', 'provoked': 'angry', 'punished': 'hated', 'put upon': 'burdened', 'quaking': 'fearful', 'quiescent': 'apathetic', 'rageful': 'angry', 'rapturous': 'happy', 'rated': 'singled out', 'reassured': 'fearless', 'reckless': 'powerless', 'redeemed': 'singled out', 'regretful': 'sad', 'rejected': 'hated', 'released': 'free', 'remorse': 'sad', 'replaced': 'hated', 'repulsed': 'demoralized', 'resentful': 'angry', 'resolute': 'fearless', 'respected': 'esteemed', 'responsible': 'adequate', 'restful': 'fearful', 'revered': 'esteemed', 'rueful': 'sad', 'sad': 'sad', 'satisfied': 'happy', 'saucy': 'happy', 'scared': 'fearful', 'secure': 'fearless', 'self-reliant': 'fearless', 'serene': 'happy', 'shaky': 'fearful', 'shamed': 'sad', 'shocked': 'surprise', 'significant': 'esteemed', 'singled out': 'singled out', 'skeptical': 'anxious', 'snoopy': 'attracted', 'somber': 'sad', 'sparkling': 'happy', 'spirited': 'sad', 'spiritless': 'sad', 'sprightly': 'happy', 'startled': 'surprise', 'stereotyped': 'singled out', 'stifled': 'powerless', 'stout hearted': 'fearless', 'strong': 'independent', 'suffering': 'sad', 'sulky': 'sad', 'sullen': 'angry', 'sunny': 'happy', 'surprised': 'surprise', 'suspicious': 'fearful', 'sympathetic': 'codependent', 'tense': 'anxious', 'terrified': 'fearful', 'terrorized': 'fearful', 'thankful': 'happy', 'threatened': 'fearful', 'thwarted': 'powerless', 'timid': 'fearful', 'timorous': 'fearful', 'torn': 'derailed', 'tortured': 'sad', 'tragic': 'sad', 'tranquil': 'happy', 'transported': 'happy', 'trapped': 'entitled', 'tremulous': 'fearful', 'tricked': 'entitled', 'turned on': 'lustful', 'unapproved of': 'hated', 'unbelieving': 'anxious', 'uncertain': 'anxious', 'unconcerned': 'apathetic', 'understood': 'attached', 'unfocussed': 'lost', 'unlovable': 'hated', 'unloved': 'hated', 'unmotivated': 'apathetic', 'unshackled': 'free', 'unsupported': 'belittled', 'up in arms': 'angry', 'upset': 'fearful', 'validated': 'loved', 'valued': 'esteemed', 'violated': 'cheated', 'virulent': 'angry', 'vivacious': 'happy', 'vulnerable': 'powerless', 'wavering': 'anxious', 'weak': 'powerless', 'welcomed': 'loved', 'woebegone': 'sad', 'woeful': 'sad', 'worn down': 'powerless', 'worn out': 'powerless', 'worried': 'fearful', 'worshiped': 'esteemed', 'wrathful': 'angry', 'wronged': 'singled out', 'wrought up': 'angry', 'yearning': 'lustful', 'yellow': 'fearful', 'zealous': 'attracted', 'abandoned': 'hated', 'absolved': 'singled out', 'absorbed': 'attracted', 'abused': 'powerless', 'accepted': 'loved', 'aching': 'sad', 'acrimonious': 'angry', 'addicted': 'codependent', 'adequate': 'adequate', 'admired': 'esteemed', 'affectionate': 'attached', 'affronted': 'singled out', 'afraid': 'fearful', 'airy': 'happy', 'alone': 'alone', 'ambivalent': 'bored', 'arrogant': 'independent', 'ashamed': 'embarrassed', 'astonished': 'surprise', 'at ease': 'safe', 'attacked': 'fearful', 'audacious': 'fearless', 'average': 'average', 'avid': 'attracted', 'baffled': 'lost', 'bashful': 'powerless', 'belittled': 'belittled', 'buoyant': 'happy', 'burdened': 'burdened', 'clouded': 'sad', 'committed': 'focused', 'compassionate': 'attached', 'compelled': 'obsessed', 'dauntless': 'fearless', 'debonair': 'happy', 'deceived': 'entitled', 'delighted': 'ecstatic', 'demoralized': 'demoralized', 'derailed': 'derailed', 'desirous': 'attracted', 'despairing': 'sad', 'devastated': 'angry', 'diffident': 'fearful', 'discredited': 'belittled', 'disinclined': 'demoralized', 'disorganized': 'powerless', 'downcast': 'sad', 'entitled': 'entitled', 'exultant': 'happy', 'fidgety': 'fearful', 'frowning': 'sad', 'full of misgiving': 'anxious', 'great': 'happy', 'hapless': 'sad', 'hated': 'hated', 'heroic': 'fearless', 'hostile': 'angry', 'in despair': 'sad', 'indifferent': 'bored', 'infuriated': 'angry', 'inspired': 'happy', 'inspiring': 'attracted', 'judged': 'singled out', 'laughting': 'happy', 'loving': 'attached', 'lustful': 'lustful', 'manipulated': 'cheated', 'mumpish': 'sad', 'nosey': 'attracted', 'numb': 'apathetic', 'obliterated': 'powerless', 'petrified': 'fearful', 'piqued': 'angry', 'piteous': 'sad', 'questioning': 'anxious', 'self-satisfied': 'happy', 'set up': 'entitled', 'shut out': 'alone', 'sorrowful': 'sad', 'supported': 'esteemed', 'terrific': 'happy', 'trembling': 'fearful', 'uncomfortable': 'anxious', 'underestimated': 'belittled', 'unhappy': 'sad', 'vindicated': 'singled out', 'worked up': 'angry'}\n"
     ]
    }
   ],
   "source": [
    "cleaned_text=''\n",
    "for i in nf:\n",
    "    cleaned_text=cleaned_text+i.replace(',','').replace(\"'\",'')\n",
    "\n",
    "lines=cleaned_text.strip().split('\\n')\n",
    "\n",
    "emotion_dic={}\n",
    "\n",
    "for line in lines:\n",
    "    word, emotion = line.split(\":\")\n",
    "    word = word.strip()\n",
    "    emotion = emotion.strip()\n",
    "    emotion_dic[word]=emotion\n",
    "print(emotion_dic)"
   ]
  },
  {
   "cell_type": "code",
   "execution_count": 47,
   "metadata": {},
   "outputs": [
    {
     "name": "stdout",
     "output_type": "stream",
     "text": [
      "['fearless', 'average', 'free']\n"
     ]
    }
   ],
   "source": [
    "emotion_list=[]\n",
    "for i in emotion_dic:\n",
    "    if i in lemme_words:\n",
    "        emotion_list.append(emotion_dic[i])\n",
    "print(emotion_list)"
   ]
  },
  {
   "cell_type": "code",
   "execution_count": 48,
   "metadata": {},
   "outputs": [
    {
     "name": "stdout",
     "output_type": "stream",
     "text": [
      "{'fearless': 1, 'average': 1, 'free': 1}\n"
     ]
    }
   ],
   "source": [
    "count={}\n",
    "for i in emotion_list:\n",
    "    if i in count:\n",
    "        count[i]+=1\n",
    "    else:\n",
    "        count[i]=1\n",
    "print(count)"
   ]
  },
  {
   "cell_type": "code",
   "execution_count": 49,
   "metadata": {},
   "outputs": [
    {
     "name": "stdout",
     "output_type": "stream",
     "text": [
      "['fearless', 'average', 'free']\n",
      "[1, 1, 1]\n"
     ]
    }
   ],
   "source": [
    "emotions_name=[]\n",
    "emotion_counts=[]\n",
    "for i in count:\n",
    "    emotions_name.append(i)\n",
    "    emotion_counts.append(count[i])\n",
    "\n",
    "print(emotions_name)\n",
    "print(emotion_counts)"
   ]
  },
  {
   "cell_type": "code",
   "execution_count": 50,
   "metadata": {},
   "outputs": [
    {
     "data": {
      "image/png": "[encoded data removed]",
      "text/plain": [
       "<Figure size 800x500 with 1 Axes>"
      ]
     },
     "metadata": {},
     "output_type": "display_data"
    }
   ],
   "source": [
    "import matplotlib.pyplot as plt\n",
    "plt.figure(figsize=(8,5))\n",
    "plt.pie(emotion_counts,labels=emotions_name,autopct='%1.1f%%')\n",
    "plt.show()"
   ]
  },
  {
   "cell_type": "code",
   "execution_count": 51,
   "metadata": {},
   "outputs": [
    {
     "name": "stderr",
     "output_type": "stream",
     "text": [
      "[nltk_data] Downloading package vader_lexicon to\n",
      "[nltk_data]     C:\\Users\\hp\\AppData\\Roaming\\nltk_data...\n",
      "[nltk_data]   Package vader_lexicon is already up-to-date!\n"
     ]
    },
    {
     "data": {
      "text/plain": [
       "True"
      ]
     },
     "execution_count": 51,
     "metadata": {},
     "output_type": "execute_result"
    }
   ],
   "source": [
    "nltk.download('vader_lexicon')"
   ]
  },
  {
   "cell_type": "code",
   "execution_count": 52,
   "metadata": {},
   "outputs": [
    {
     "name": "stdout",
     "output_type": "stream",
     "text": [
      "Positive Sentiment\n"
     ]
    }
   ],
   "source": [
    "import matplotlib.pyplot as plt\n",
    "def sentiment_analyse(sentiment_text):\n",
    "    score = SentimentIntensityAnalyzer().polarity_scores(sentiment_text)\n",
    "    if score['neg'] > score['pos']:\n",
    "        print(\"Negative Sentiment\")\n",
    "    elif score['neg'] < score['pos']:\n",
    "        print(\"Positive Sentiment\")\n",
    "    else:\n",
    "        print(\"Neutral Sentiment\")\n",
    "\n",
    "\n",
    "sentiment_analyse(cleaned_string)\n"
   ]
  }
 ],
 "metadata": {
  "kernelspec": {
   "display_name": "Python 3",
   "language": "python",
   "name": "python3"
  },
  "language_info": {
   "codemirror_mode": {
    "name": "ipython",
    "version": 3
   },
   "file_extension": ".py",
   "mimetype": "text/x-python",
   "name": "python",
   "nbconvert_exporter": "python",
   "pygments_lexer": "ipython3",
   "version": "3.11.1"
  }
 },
 "nbformat": 4,
 "nbformat_minor": 2
}
